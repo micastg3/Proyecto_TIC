# Your benchmarking notebook goes here

import re, pandas as pd, glob, pathlib, matplotlib.pyplot as plt

def parse_sysbench_log(path):
    txt = pathlib.Path(path).read_text()
    tr = float(re.search(r"transactions:\s+([0-9.]+)", txt).group(1))
    lat = float(re.search(r"95th percentile:\s+([0-9.]+)", txt).group(1))
    return {"file": path, "tps": tr, "p95_ms": lat}

df = pd.DataFrame(parse_sysbench_log(p) for p in glob.glob("../results/*.log"))
df["mode"] = df["file"].str.contains("docker").map({True: "docker", False: "vm"})
display(df)

df.groupby("mode").mean()[["tps","p95_ms"]].plot(kind="bar", subplots=True, legend=False, figsize=(6,4))
plt.tight_layout()
